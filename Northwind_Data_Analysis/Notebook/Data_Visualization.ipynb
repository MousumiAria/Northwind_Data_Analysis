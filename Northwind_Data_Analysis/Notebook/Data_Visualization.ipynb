{
 "cells": [
  {
   "cell_type": "code",
   "execution_count": 1,
   "metadata": {},
   "outputs": [],
   "source": [
    "import pandas as pd\n",
    "import matplotlib as plt\n",
    "import os\n",
    "\n",
    "path1=\"E:\\\\Mou_Projects\\\\Northwind_CSV_File\\\\Customer.csv\"\n",
    "path2=\"E:\\\\Mou_Projects\\\\Northwind_CSV_File\\\\Employee.csv\"\n",
    "path3=\"E:\\\\Mou_Projects\\\\Northwind_CSV_File\\\\Products.csv\"\n",
    "path4=\"E:\\\\Mou_Projects\\\\Northwind_CSV_File\\\\Order_Detail.csv\"\n",
    "path5=\"E:\\\\Mou_Projects\\\\Northwind_CSV_File\\\\Order.csv\"\n",
    "\n",
    "#path1='Customer.csv'\n",
    "'''with open(path, 'r') as f:\n",
    "        print(f.read())'''\n",
    "df_Customer=pd.read_csv(path1)\n",
    "df_Employee=pd.read_csv(path2)\n",
    "df_Products=pd.read_csv(path3)\n",
    "df_Order_Detail=pd.read_csv(path4)\n",
    "df_Order=pd.read_csv(path5)\n"
   ]
  },
  {
   "cell_type": "code",
   "execution_count": 2,
   "metadata": {},
   "outputs": [
    {
     "data": {
      "text/html": [
       "<div>\n",
       "<style scoped>\n",
       "    .dataframe tbody tr th:only-of-type {\n",
       "        vertical-align: middle;\n",
       "    }\n",
       "\n",
       "    .dataframe tbody tr th {\n",
       "        vertical-align: top;\n",
       "    }\n",
       "\n",
       "    .dataframe thead th {\n",
       "        text-align: right;\n",
       "    }\n",
       "</style>\n",
       "<table border=\"1\" class=\"dataframe\">\n",
       "  <thead>\n",
       "    <tr style=\"text-align: right;\">\n",
       "      <th></th>\n",
       "      <th>id</th>\n",
       "      <th>company</th>\n",
       "      <th>last_name</th>\n",
       "      <th>first_name</th>\n",
       "      <th>email_address</th>\n",
       "      <th>job_title</th>\n",
       "      <th>business_phone</th>\n",
       "      <th>home_phone</th>\n",
       "      <th>mobile_phone</th>\n",
       "      <th>fax_number</th>\n",
       "      <th>address</th>\n",
       "      <th>city</th>\n",
       "      <th>state_province</th>\n",
       "      <th>zip_postal_code</th>\n",
       "      <th>country_region</th>\n",
       "      <th>web_page</th>\n",
       "      <th>notes</th>\n",
       "      <th>attachments</th>\n",
       "    </tr>\n",
       "  </thead>\n",
       "  <tbody>\n",
       "    <tr>\n",
       "      <th>0</th>\n",
       "      <td>1</td>\n",
       "      <td>Company A</td>\n",
       "      <td>Bedecs</td>\n",
       "      <td>Anna</td>\n",
       "      <td>NaN</td>\n",
       "      <td>Owner</td>\n",
       "      <td>(123)555-0100</td>\n",
       "      <td>NaN</td>\n",
       "      <td>NaN</td>\n",
       "      <td>(123)555-0101</td>\n",
       "      <td>123 1st Street</td>\n",
       "      <td>Seattle</td>\n",
       "      <td>WA</td>\n",
       "      <td>99999</td>\n",
       "      <td>USA</td>\n",
       "      <td>NaN</td>\n",
       "      <td>NaN</td>\n",
       "      <td>NaN</td>\n",
       "    </tr>\n",
       "    <tr>\n",
       "      <th>1</th>\n",
       "      <td>2</td>\n",
       "      <td>Company B</td>\n",
       "      <td>Gratacos Solsona</td>\n",
       "      <td>Antonio</td>\n",
       "      <td>NaN</td>\n",
       "      <td>Owner</td>\n",
       "      <td>(123)555-0100</td>\n",
       "      <td>NaN</td>\n",
       "      <td>NaN</td>\n",
       "      <td>(123)555-0101</td>\n",
       "      <td>123 2nd Street</td>\n",
       "      <td>Boston</td>\n",
       "      <td>MA</td>\n",
       "      <td>99999</td>\n",
       "      <td>USA</td>\n",
       "      <td>NaN</td>\n",
       "      <td>NaN</td>\n",
       "      <td>NaN</td>\n",
       "    </tr>\n",
       "  </tbody>\n",
       "</table>\n",
       "</div>"
      ],
      "text/plain": [
       "   id    company         last_name first_name  email_address job_title  \\\n",
       "0   1  Company A            Bedecs       Anna            NaN     Owner   \n",
       "1   2  Company B  Gratacos Solsona    Antonio            NaN     Owner   \n",
       "\n",
       "  business_phone  home_phone  mobile_phone     fax_number         address  \\\n",
       "0  (123)555-0100         NaN           NaN  (123)555-0101  123 1st Street   \n",
       "1  (123)555-0100         NaN           NaN  (123)555-0101  123 2nd Street   \n",
       "\n",
       "      city state_province  zip_postal_code country_region  web_page  notes  \\\n",
       "0  Seattle             WA            99999            USA       NaN    NaN   \n",
       "1   Boston             MA            99999            USA       NaN    NaN   \n",
       "\n",
       "   attachments  \n",
       "0          NaN  \n",
       "1          NaN  "
      ]
     },
     "execution_count": 2,
     "metadata": {},
     "output_type": "execute_result"
    }
   ],
   "source": [
    "df_Customer.head(2)"
   ]
  },
  {
   "attachments": {},
   "cell_type": "markdown",
   "metadata": {},
   "source": [
    "### 1. Find highest ordered product"
   ]
  },
  {
   "cell_type": "code",
   "execution_count": 2,
   "metadata": {},
   "outputs": [
    {
     "data": {
      "text/html": [
       "<div>\n",
       "<style scoped>\n",
       "    .dataframe tbody tr th:only-of-type {\n",
       "        vertical-align: middle;\n",
       "    }\n",
       "\n",
       "    .dataframe tbody tr th {\n",
       "        vertical-align: top;\n",
       "    }\n",
       "\n",
       "    .dataframe thead th {\n",
       "        text-align: right;\n",
       "    }\n",
       "</style>\n",
       "<table border=\"1\" class=\"dataframe\">\n",
       "  <thead>\n",
       "    <tr style=\"text-align: right;\">\n",
       "      <th></th>\n",
       "      <th>order_id</th>\n",
       "      <th>product_id</th>\n",
       "      <th>quantity</th>\n",
       "      <th>unit_price</th>\n",
       "    </tr>\n",
       "  </thead>\n",
       "  <tbody>\n",
       "    <tr>\n",
       "      <th>0</th>\n",
       "      <td>30</td>\n",
       "      <td>34</td>\n",
       "      <td>100.0</td>\n",
       "      <td>14.0</td>\n",
       "    </tr>\n",
       "    <tr>\n",
       "      <th>1</th>\n",
       "      <td>30</td>\n",
       "      <td>80</td>\n",
       "      <td>30.0</td>\n",
       "      <td>3.5</td>\n",
       "    </tr>\n",
       "  </tbody>\n",
       "</table>\n",
       "</div>"
      ],
      "text/plain": [
       "   order_id  product_id  quantity  unit_price\n",
       "0        30          34     100.0        14.0\n",
       "1        30          80      30.0         3.5"
      ]
     },
     "execution_count": 2,
     "metadata": {},
     "output_type": "execute_result"
    }
   ],
   "source": [
    "#df_Order_Detail.head(2)\n",
    "df_Order_Detail=df_Order_Detail[['order_id','product_id', 'quantity','unit_price']]\n",
    "df_Order_Detail.head(2)"
   ]
  },
  {
   "cell_type": "code",
   "execution_count": 3,
   "metadata": {},
   "outputs": [
    {
     "data": {
      "text/html": [
       "<div>\n",
       "<style scoped>\n",
       "    .dataframe tbody tr th:only-of-type {\n",
       "        vertical-align: middle;\n",
       "    }\n",
       "\n",
       "    .dataframe tbody tr th {\n",
       "        vertical-align: top;\n",
       "    }\n",
       "\n",
       "    .dataframe thead th {\n",
       "        text-align: right;\n",
       "    }\n",
       "</style>\n",
       "<table border=\"1\" class=\"dataframe\">\n",
       "  <thead>\n",
       "    <tr style=\"text-align: right;\">\n",
       "      <th></th>\n",
       "      <th>id</th>\n",
       "      <th>product_name</th>\n",
       "    </tr>\n",
       "  </thead>\n",
       "  <tbody>\n",
       "    <tr>\n",
       "      <th>0</th>\n",
       "      <td>1</td>\n",
       "      <td>Northwind Traders Chai</td>\n",
       "    </tr>\n",
       "    <tr>\n",
       "      <th>1</th>\n",
       "      <td>3</td>\n",
       "      <td>Northwind Traders Syrup</td>\n",
       "    </tr>\n",
       "  </tbody>\n",
       "</table>\n",
       "</div>"
      ],
      "text/plain": [
       "   id             product_name\n",
       "0   1   Northwind Traders Chai\n",
       "1   3  Northwind Traders Syrup"
      ]
     },
     "execution_count": 3,
     "metadata": {},
     "output_type": "execute_result"
    }
   ],
   "source": [
    "#df_Products.head(2)\n",
    "df_Products=df_Products[['id','product_name']]\n",
    "df_Products.head(2)\n"
   ]
  },
  {
   "cell_type": "code",
   "execution_count": 4,
   "metadata": {},
   "outputs": [],
   "source": [
    "new_df= pd.merge(df_Order_Detail, df_Products, left_on='product_id', right_on='id')"
   ]
  },
  {
   "cell_type": "code",
   "execution_count": 5,
   "metadata": {},
   "outputs": [
    {
     "data": {
      "text/html": [
       "<div>\n",
       "<style scoped>\n",
       "    .dataframe tbody tr th:only-of-type {\n",
       "        vertical-align: middle;\n",
       "    }\n",
       "\n",
       "    .dataframe tbody tr th {\n",
       "        vertical-align: top;\n",
       "    }\n",
       "\n",
       "    .dataframe thead th {\n",
       "        text-align: right;\n",
       "    }\n",
       "</style>\n",
       "<table border=\"1\" class=\"dataframe\">\n",
       "  <thead>\n",
       "    <tr style=\"text-align: right;\">\n",
       "      <th></th>\n",
       "      <th>order_id</th>\n",
       "      <th>product_id</th>\n",
       "      <th>quantity</th>\n",
       "      <th>unit_price</th>\n",
       "      <th>id</th>\n",
       "      <th>product_name</th>\n",
       "    </tr>\n",
       "  </thead>\n",
       "  <tbody>\n",
       "    <tr>\n",
       "      <th>0</th>\n",
       "      <td>30</td>\n",
       "      <td>34</td>\n",
       "      <td>100.0</td>\n",
       "      <td>14.0</td>\n",
       "      <td>34</td>\n",
       "      <td>Northwind Traders Beer</td>\n",
       "    </tr>\n",
       "    <tr>\n",
       "      <th>1</th>\n",
       "      <td>47</td>\n",
       "      <td>34</td>\n",
       "      <td>300.0</td>\n",
       "      <td>14.0</td>\n",
       "      <td>34</td>\n",
       "      <td>Northwind Traders Beer</td>\n",
       "    </tr>\n",
       "  </tbody>\n",
       "</table>\n",
       "</div>"
      ],
      "text/plain": [
       "   order_id  product_id  quantity  unit_price  id            product_name\n",
       "0        30          34     100.0        14.0  34  Northwind Traders Beer\n",
       "1        47          34     300.0        14.0  34  Northwind Traders Beer"
      ]
     },
     "execution_count": 5,
     "metadata": {},
     "output_type": "execute_result"
    }
   ],
   "source": [
    "new_df.head(2)"
   ]
  },
  {
   "cell_type": "code",
   "execution_count": 6,
   "metadata": {},
   "outputs": [
    {
     "data": {
      "text/plain": [
       "Index(['order_id', 'product_id', 'quantity', 'unit_price', 'id',\n",
       "       'product_name'],\n",
       "      dtype='object')"
      ]
     },
     "execution_count": 6,
     "metadata": {},
     "output_type": "execute_result"
    }
   ],
   "source": [
    "new_df.columns"
   ]
  },
  {
   "cell_type": "code",
   "execution_count": 7,
   "metadata": {},
   "outputs": [],
   "source": [
    "new_df.drop('id', axis=1, inplace=True)\n",
    "#new_df"
   ]
  },
  {
   "cell_type": "code",
   "execution_count": 8,
   "metadata": {},
   "outputs": [
    {
     "data": {
      "text/html": [
       "<div>\n",
       "<style scoped>\n",
       "    .dataframe tbody tr th:only-of-type {\n",
       "        vertical-align: middle;\n",
       "    }\n",
       "\n",
       "    .dataframe tbody tr th {\n",
       "        vertical-align: top;\n",
       "    }\n",
       "\n",
       "    .dataframe thead th {\n",
       "        text-align: right;\n",
       "    }\n",
       "</style>\n",
       "<table border=\"1\" class=\"dataframe\">\n",
       "  <thead>\n",
       "    <tr style=\"text-align: right;\">\n",
       "      <th></th>\n",
       "      <th>order_id</th>\n",
       "      <th>product_id</th>\n",
       "      <th>quantity</th>\n",
       "      <th>unit_price</th>\n",
       "      <th>product_name</th>\n",
       "    </tr>\n",
       "  </thead>\n",
       "  <tbody>\n",
       "    <tr>\n",
       "      <th>0</th>\n",
       "      <td>30</td>\n",
       "      <td>34</td>\n",
       "      <td>100.0</td>\n",
       "      <td>14.0</td>\n",
       "      <td>Northwind Traders Beer</td>\n",
       "    </tr>\n",
       "    <tr>\n",
       "      <th>1</th>\n",
       "      <td>47</td>\n",
       "      <td>34</td>\n",
       "      <td>300.0</td>\n",
       "      <td>14.0</td>\n",
       "      <td>Northwind Traders Beer</td>\n",
       "    </tr>\n",
       "  </tbody>\n",
       "</table>\n",
       "</div>"
      ],
      "text/plain": [
       "   order_id  product_id  quantity  unit_price            product_name\n",
       "0        30          34     100.0        14.0  Northwind Traders Beer\n",
       "1        47          34     300.0        14.0  Northwind Traders Beer"
      ]
     },
     "execution_count": 8,
     "metadata": {},
     "output_type": "execute_result"
    }
   ],
   "source": [
    "new_df.head(2)"
   ]
  },
  {
   "cell_type": "code",
   "execution_count": 9,
   "metadata": {},
   "outputs": [
    {
     "data": {
      "text/plain": [
       "product_name\n",
       "Northwind Traders Coffee    650.0\n",
       "Name: quantity, dtype: float64"
      ]
     },
     "execution_count": 9,
     "metadata": {},
     "output_type": "execute_result"
    }
   ],
   "source": [
    "new_df.groupby('product_name')['quantity'].sum().sort_values(ascending=False).head(1)"
   ]
  },
  {
   "cell_type": "code",
   "execution_count": 10,
   "metadata": {},
   "outputs": [
    {
     "name": "stdout",
     "output_type": "stream",
     "text": [
      "product_name\n",
      "Northwind Traders Coffee    650.0\n",
      "Name: quantity, dtype: float64\n"
     ]
    }
   ],
   "source": [
    "def Get_Highest_Ordered_Product() -> pd.DataFrame:\n",
    "\n",
    "    path3=\"E:\\\\Mou_Projects\\\\Northwind_CSV_File\\\\Products.csv\"\n",
    "    path4=\"E:\\\\Mou_Projects\\\\Northwind_CSV_File\\\\Order_Detail.csv\"\n",
    "    df_Products=pd.read_csv(path3)\n",
    "    df_Order_Detail=pd.read_csv(path4)\n",
    "    df_Order_Detail=df_Order_Detail[['order_id','product_id', 'quantity','unit_price']]\n",
    "    df_Products=df_Products[['id','product_name']]\n",
    "    new_df= pd.merge(df_Order_Detail, df_Products, left_on='product_id', right_on='id')\n",
    "    new_df.drop('id', axis=1, inplace=True)\n",
    "    return new_df.groupby('product_name')['quantity'].sum().sort_values(ascending=False).head(1)\n",
    " \n",
    "print(Get_Highest_Ordered_Product())"
   ]
  },
  {
   "attachments": {},
   "cell_type": "markdown",
   "metadata": {},
   "source": [
    "### 2. Find top 5 customers who ordered most"
   ]
  },
  {
   "cell_type": "code",
   "execution_count": 11,
   "metadata": {},
   "outputs": [],
   "source": [
    "path1=\"E:\\\\Mou_Projects\\\\Northwind_CSV_File\\\\Customer.csv\"\n",
    "path5=\"E:\\\\Mou_Projects\\\\Northwind_CSV_File\\\\Order.csv\"\n",
    "df_Customer=pd.read_csv(path1)\n",
    "df_Order=pd.read_csv(path5)"
   ]
  },
  {
   "cell_type": "code",
   "execution_count": 12,
   "metadata": {},
   "outputs": [
    {
     "data": {
      "text/html": [
       "<div>\n",
       "<style scoped>\n",
       "    .dataframe tbody tr th:only-of-type {\n",
       "        vertical-align: middle;\n",
       "    }\n",
       "\n",
       "    .dataframe tbody tr th {\n",
       "        vertical-align: top;\n",
       "    }\n",
       "\n",
       "    .dataframe thead th {\n",
       "        text-align: right;\n",
       "    }\n",
       "</style>\n",
       "<table border=\"1\" class=\"dataframe\">\n",
       "  <thead>\n",
       "    <tr style=\"text-align: right;\">\n",
       "      <th></th>\n",
       "      <th>id</th>\n",
       "      <th>first_name</th>\n",
       "      <th>last_name</th>\n",
       "    </tr>\n",
       "  </thead>\n",
       "  <tbody>\n",
       "    <tr>\n",
       "      <th>0</th>\n",
       "      <td>1</td>\n",
       "      <td>Anna</td>\n",
       "      <td>Bedecs</td>\n",
       "    </tr>\n",
       "    <tr>\n",
       "      <th>1</th>\n",
       "      <td>2</td>\n",
       "      <td>Antonio</td>\n",
       "      <td>Gratacos Solsona</td>\n",
       "    </tr>\n",
       "  </tbody>\n",
       "</table>\n",
       "</div>"
      ],
      "text/plain": [
       "   id first_name         last_name\n",
       "0   1       Anna            Bedecs\n",
       "1   2    Antonio  Gratacos Solsona"
      ]
     },
     "execution_count": 12,
     "metadata": {},
     "output_type": "execute_result"
    }
   ],
   "source": [
    "#df_Customer.head(2)\n",
    "df_Customer=df_Customer[['id','first_name','last_name']]\n",
    "df_Customer.head(2)\n"
   ]
  },
  {
   "cell_type": "code",
   "execution_count": 13,
   "metadata": {},
   "outputs": [
    {
     "data": {
      "text/html": [
       "<div>\n",
       "<style scoped>\n",
       "    .dataframe tbody tr th:only-of-type {\n",
       "        vertical-align: middle;\n",
       "    }\n",
       "\n",
       "    .dataframe tbody tr th {\n",
       "        vertical-align: top;\n",
       "    }\n",
       "\n",
       "    .dataframe thead th {\n",
       "        text-align: right;\n",
       "    }\n",
       "</style>\n",
       "<table border=\"1\" class=\"dataframe\">\n",
       "  <thead>\n",
       "    <tr style=\"text-align: right;\">\n",
       "      <th></th>\n",
       "      <th>id</th>\n",
       "      <th>first_name</th>\n",
       "      <th>last_name</th>\n",
       "      <th>customer_name</th>\n",
       "    </tr>\n",
       "  </thead>\n",
       "  <tbody>\n",
       "    <tr>\n",
       "      <th>0</th>\n",
       "      <td>1</td>\n",
       "      <td>Anna</td>\n",
       "      <td>Bedecs</td>\n",
       "      <td>AnnaBedecs</td>\n",
       "    </tr>\n",
       "    <tr>\n",
       "      <th>1</th>\n",
       "      <td>2</td>\n",
       "      <td>Antonio</td>\n",
       "      <td>Gratacos Solsona</td>\n",
       "      <td>AntonioGratacos Solsona</td>\n",
       "    </tr>\n",
       "  </tbody>\n",
       "</table>\n",
       "</div>"
      ],
      "text/plain": [
       "   id first_name         last_name            customer_name\n",
       "0   1       Anna            Bedecs               AnnaBedecs\n",
       "1   2    Antonio  Gratacos Solsona  AntonioGratacos Solsona"
      ]
     },
     "execution_count": 13,
     "metadata": {},
     "output_type": "execute_result"
    }
   ],
   "source": [
    "df_Customer['customer_name']=df_Customer['first_name']+df_Customer['last_name']\n",
    "df_Customer.head(2)"
   ]
  },
  {
   "cell_type": "code",
   "execution_count": 14,
   "metadata": {},
   "outputs": [
    {
     "data": {
      "text/html": [
       "<div>\n",
       "<style scoped>\n",
       "    .dataframe tbody tr th:only-of-type {\n",
       "        vertical-align: middle;\n",
       "    }\n",
       "\n",
       "    .dataframe tbody tr th {\n",
       "        vertical-align: top;\n",
       "    }\n",
       "\n",
       "    .dataframe thead th {\n",
       "        text-align: right;\n",
       "    }\n",
       "</style>\n",
       "<table border=\"1\" class=\"dataframe\">\n",
       "  <thead>\n",
       "    <tr style=\"text-align: right;\">\n",
       "      <th></th>\n",
       "      <th>order_id</th>\n",
       "      <th>customer_id</th>\n",
       "      <th>order_date</th>\n",
       "    </tr>\n",
       "  </thead>\n",
       "  <tbody>\n",
       "    <tr>\n",
       "      <th>0</th>\n",
       "      <td>30</td>\n",
       "      <td>27</td>\n",
       "      <td>2006-01-15 00:00:00</td>\n",
       "    </tr>\n",
       "    <tr>\n",
       "      <th>1</th>\n",
       "      <td>31</td>\n",
       "      <td>4</td>\n",
       "      <td>2006-01-20 00:00:00</td>\n",
       "    </tr>\n",
       "  </tbody>\n",
       "</table>\n",
       "</div>"
      ],
      "text/plain": [
       "   order_id  customer_id           order_date\n",
       "0        30           27  2006-01-15 00:00:00\n",
       "1        31            4  2006-01-20 00:00:00"
      ]
     },
     "execution_count": 14,
     "metadata": {},
     "output_type": "execute_result"
    }
   ],
   "source": [
    "df_Order.head(2)\n",
    "df_Order=df_Order[['id','customer_id','order_date']]\n",
    "df_Order.rename(columns={'id':'order_id'},inplace=True)\n",
    "df_Order.head(2)"
   ]
  },
  {
   "cell_type": "code",
   "execution_count": 15,
   "metadata": {},
   "outputs": [
    {
     "data": {
      "text/plain": [
       "customer_name\n",
       "ElizabethAndersen        6\n",
       "FranciscoPérez-Olaeta    6\n",
       "ChristinaLee             5\n",
       "AmritanshRaghav          4\n",
       "RolandWacker             4\n",
       "Name: order_id, dtype: int64"
      ]
     },
     "execution_count": 15,
     "metadata": {},
     "output_type": "execute_result"
    }
   ],
   "source": [
    "new_df=pd.merge(df_Order,df_Customer,left_on='customer_id',right_on='id')\n",
    "new_df.drop('id',axis=1, inplace=True)\n",
    "new_df.groupby('customer_name')['order_id'].count().sort_values(ascending=False).head(5)"
   ]
  },
  {
   "cell_type": "code",
   "execution_count": 16,
   "metadata": {},
   "outputs": [
    {
     "data": {
      "text/plain": [
       "customer_name\n",
       "Elizabeth Andersen        6\n",
       "Francisco Pérez-Olaeta    6\n",
       "Christina Lee             5\n",
       "Amritansh Raghav          4\n",
       "Roland Wacker             4\n",
       "Name: order_id, dtype: int64"
      ]
     },
     "execution_count": 16,
     "metadata": {},
     "output_type": "execute_result"
    }
   ],
   "source": [
    "def Get_Top_5_Customer_Who_Ordered_Most():\n",
    "    path1=\"E:\\\\Mou_Projects\\\\Northwind_CSV_File\\\\Customer.csv\"\n",
    "    path5=\"E:\\\\Mou_Projects\\\\Northwind_CSV_File\\\\Order.csv\"\n",
    "    df_Customer=pd.read_csv(path1)\n",
    "    df_Order=pd.read_csv(path5)\n",
    "    df_Customer=df_Customer[['id','first_name','last_name']]\n",
    "    df_Customer['customer_name']=df_Customer['first_name']+ ' '+ df_Customer['last_name']\n",
    "    df_Order=df_Order[['id','customer_id','order_date']]\n",
    "    df_Order.rename(columns={'id':'order_id'},inplace=True)\n",
    "    new_df=pd.merge(df_Order,df_Customer,left_on='customer_id',right_on='id')\n",
    "    new_df.drop('id',axis=1, inplace=True)\n",
    "    return new_df.groupby('customer_name')['order_id'].count().sort_values(ascending=False).head(5)\n",
    "\n",
    "Get_Top_5_Customer_Who_Ordered_Most()"
   ]
  },
  {
   "attachments": {},
   "cell_type": "markdown",
   "metadata": {},
   "source": [
    "### 3. Show all products ordered by one customer"
   ]
  },
  {
   "cell_type": "code",
   "execution_count": 17,
   "metadata": {},
   "outputs": [],
   "source": [
    "path1=\"E:\\\\Mou_Projects\\\\Northwind_CSV_File\\\\Customer.csv\"\n",
    "path3=\"E:\\\\Mou_Projects\\\\Northwind_CSV_File\\\\Products.csv\"\n",
    "path4=\"E:\\\\Mou_Projects\\\\Northwind_CSV_File\\\\Order_Detail.csv\"\n",
    "path5=\"E:\\\\Mou_Projects\\\\Northwind_CSV_File\\\\Order.csv\"\n",
    "\n",
    "#path1='Customer.csv'\n",
    "'''with open(path, 'r') as f:\n",
    "        print(f.read())'''\n",
    "df_Customer=pd.read_csv(path1)\n",
    "df_Products=pd.read_csv(path3)\n",
    "df_Order_Detail=pd.read_csv(path4)\n",
    "df_Order=pd.read_csv(path5)\n"
   ]
  },
  {
   "cell_type": "code",
   "execution_count": 18,
   "metadata": {},
   "outputs": [
    {
     "data": {
      "text/html": [
       "<div>\n",
       "<style scoped>\n",
       "    .dataframe tbody tr th:only-of-type {\n",
       "        vertical-align: middle;\n",
       "    }\n",
       "\n",
       "    .dataframe tbody tr th {\n",
       "        vertical-align: top;\n",
       "    }\n",
       "\n",
       "    .dataframe thead th {\n",
       "        text-align: right;\n",
       "    }\n",
       "</style>\n",
       "<table border=\"1\" class=\"dataframe\">\n",
       "  <thead>\n",
       "    <tr style=\"text-align: right;\">\n",
       "      <th></th>\n",
       "      <th>order_id</th>\n",
       "      <th>customer_id</th>\n",
       "      <th>order_date</th>\n",
       "      <th>customer_name</th>\n",
       "    </tr>\n",
       "  </thead>\n",
       "  <tbody>\n",
       "    <tr>\n",
       "      <th>0</th>\n",
       "      <td>30</td>\n",
       "      <td>27</td>\n",
       "      <td>2006-01-15 00:00:00</td>\n",
       "      <td>Karen Toh</td>\n",
       "    </tr>\n",
       "    <tr>\n",
       "      <th>1</th>\n",
       "      <td>57</td>\n",
       "      <td>27</td>\n",
       "      <td>2006-04-22 00:00:00</td>\n",
       "      <td>Karen Toh</td>\n",
       "    </tr>\n",
       "  </tbody>\n",
       "</table>\n",
       "</div>"
      ],
      "text/plain": [
       "   order_id  customer_id           order_date customer_name\n",
       "0        30           27  2006-01-15 00:00:00     Karen Toh\n",
       "1        57           27  2006-04-22 00:00:00     Karen Toh"
      ]
     },
     "execution_count": 18,
     "metadata": {},
     "output_type": "execute_result"
    }
   ],
   "source": [
    "df_Customer=df_Customer[['id','first_name','last_name']]\n",
    "df_Customer['customer_name']=df_Customer['first_name']+ ' '+ df_Customer['last_name']\n",
    "df_Order=df_Order[['id','customer_id','order_date']]\n",
    "df_Order.rename(columns={'id':'order_id'},inplace=True)\n",
    "new_df=pd.merge(df_Order,df_Customer,left_on='customer_id',right_on='id')\n",
    "new_df.drop(columns=['id','first_name','last_name'], axis = 1, inplace = True)\n",
    "new_df.head(2)"
   ]
  },
  {
   "cell_type": "code",
   "execution_count": 19,
   "metadata": {},
   "outputs": [],
   "source": [
    "df_Order_Detail=df_Order_Detail[['order_id','product_id','quantity','unit_price']]\n",
    "new_df1=pd.merge(new_df,df_Order_Detail,on='order_id')\n",
    "df_Products=df_Products[['id','product_name','category']]\n",
    "final_df=pd.merge(new_df1,df_Products,left_on='product_id',right_on='id')\n",
    "final_df.drop(['id'], axis = 1, inplace = True)"
   ]
  },
  {
   "cell_type": "code",
   "execution_count": 20,
   "metadata": {},
   "outputs": [],
   "source": [
    "products_ordered_by_customer_df=final_df[final_df['customer_id']==4]"
   ]
  },
  {
   "cell_type": "code",
   "execution_count": 21,
   "metadata": {},
   "outputs": [
    {
     "data": {
      "text/plain": [
       "4                Northwind Traders Dried Plums\n",
       "7                Northwind Traders Dried Pears\n",
       "9               Northwind Traders Dried Apples\n",
       "11    Northwind Traders Chocolate Biscuits Mix\n",
       "15                 Northwind Traders Marmalade\n",
       "16           Northwind Traders Long Grain Rice\n",
       "17                   Northwind Traders Gnocchi\n",
       "Name: product_name, dtype: object"
      ]
     },
     "execution_count": 21,
     "metadata": {},
     "output_type": "execute_result"
    }
   ],
   "source": [
    "products_ordered_by_customer_df['product_name']"
   ]
  },
  {
   "cell_type": "code",
   "execution_count": 22,
   "metadata": {},
   "outputs": [
    {
     "name": "stdout",
     "output_type": "stream",
     "text": [
      "   customer_name                 product_name     category  quantity  \\\n",
      "20   Anna Bedecs       Northwind Traders Chai    Beverages      25.0   \n",
      "25   Anna Bedecs     Northwind Traders Coffee    Beverages      25.0   \n",
      "46   Anna Bedecs  Northwind Traders Green Tea    Beverages      25.0   \n",
      "48   Anna Bedecs  Northwind Traders Crab Meat  Canned Meat      40.0   \n",
      "\n",
      "    unit_price  total_price  \n",
      "20       18.00       450.00  \n",
      "25       46.00      1150.00  \n",
      "46        2.99        74.75  \n",
      "48       18.40       736.00  \n"
     ]
    }
   ],
   "source": [
    "def Get_All_Products_Ordered_By_Customer(customer:int)-> None:\n",
    "    path1=\"E:\\\\Mou_Projects\\\\Northwind_CSV_File\\\\Customer.csv\"\n",
    "    path3=\"E:\\\\Mou_Projects\\\\Northwind_CSV_File\\\\Products.csv\"\n",
    "    path4=\"E:\\\\Mou_Projects\\\\Northwind_CSV_File\\\\Order_Detail.csv\"\n",
    "    path5=\"E:\\\\Mou_Projects\\\\Northwind_CSV_File\\\\Order.csv\"\n",
    "    df_Customer=pd.read_csv(path1)\n",
    "    df_Products=pd.read_csv(path3)\n",
    "    df_Order_Detail=pd.read_csv(path4)\n",
    "    df_Order=pd.read_csv(path5)\n",
    "    df_Customer=df_Customer[['id','first_name','last_name']]\n",
    "    df_Customer['customer_name']=df_Customer['first_name']+ ' '+ df_Customer['last_name']\n",
    "    df_Order=df_Order[['id','customer_id','order_date']]\n",
    "    df_Order.rename(columns={'id':'order_id'},inplace=True)\n",
    "    new_df=pd.merge(df_Order,df_Customer,left_on='customer_id',right_on='id')\n",
    "    new_df.drop(columns=['id','first_name','last_name'], axis = 1, inplace = True)\n",
    "    df_Order_Detail=df_Order_Detail[['order_id','product_id','quantity','unit_price']]\n",
    "    df_Order_Detail['total_price']=df_Order_Detail['quantity'] * df_Order_Detail['unit_price']\n",
    "    new_df1=pd.merge(new_df,df_Order_Detail,on='order_id')\n",
    "    df_Products=df_Products[['id','product_name','category']]\n",
    "    final_df=pd.merge(new_df1,df_Products,left_on='product_id',right_on='id')\n",
    "    final_df.drop(['id'], axis = 1, inplace = True)\n",
    "    products_ordered_by_customer_df=final_df[final_df['customer_id']==customer]\n",
    "    print(products_ordered_by_customer_df[['customer_name','product_name','category','quantity','unit_price','total_price']])\n",
    "        \n",
    "Get_All_Products_Ordered_By_Customer(1)"
   ]
  },
  {
   "attachments": {},
   "cell_type": "markdown",
   "metadata": {},
   "source": [
    "### 4. Monthly highest selled product "
   ]
  },
  {
   "cell_type": "code",
   "execution_count": 23,
   "metadata": {},
   "outputs": [],
   "source": [
    "path1=\"E:\\\\Mou_Projects\\\\Northwind_CSV_File\\\\Customer.csv\"\n",
    "path3=\"E:\\\\Mou_Projects\\\\Northwind_CSV_File\\\\Products.csv\"\n",
    "path4=\"E:\\\\Mou_Projects\\\\Northwind_CSV_File\\\\Order_Detail.csv\"\n",
    "path5=\"E:\\\\Mou_Projects\\\\Northwind_CSV_File\\\\Order.csv\"\n",
    "df_Customer=pd.read_csv(path1)\n",
    "df_Products=pd.read_csv(path3)\n",
    "df_Order_Detail=pd.read_csv(path4)\n",
    "df_Order=pd.read_csv(path5)\n",
    "df_Customer=df_Customer[['id','first_name','last_name']]\n",
    "df_Customer['customer_name']=df_Customer['first_name']+ ' '+ df_Customer['last_name']\n",
    "df_Order=df_Order[['id','customer_id','order_date']]\n",
    "df_Order.rename(columns={'id':'order_id'},inplace=True)\n",
    "new_df=pd.merge(df_Order,df_Customer,left_on='customer_id',right_on='id')\n",
    "new_df.drop(columns=['id','first_name','last_name'], axis = 1, inplace = True)\n",
    "df_Order_Detail=df_Order_Detail[['order_id','product_id','quantity','unit_price']]\n",
    "df_Order_Detail['total_price']=df_Order_Detail['quantity'] * df_Order_Detail['unit_price']\n",
    "new_df1=pd.merge(new_df,df_Order_Detail,on='order_id')\n",
    "df_Products=df_Products[['id','product_name','category']]\n",
    "final_df=pd.merge(new_df1,df_Products,left_on='product_id',right_on='id')\n",
    "final_df.drop(['id'], axis = 1, inplace = True)"
   ]
  },
  {
   "cell_type": "code",
   "execution_count": 28,
   "metadata": {},
   "outputs": [
    {
     "data": {
      "text/html": [
       "<div>\n",
       "<style scoped>\n",
       "    .dataframe tbody tr th:only-of-type {\n",
       "        vertical-align: middle;\n",
       "    }\n",
       "\n",
       "    .dataframe tbody tr th {\n",
       "        vertical-align: top;\n",
       "    }\n",
       "\n",
       "    .dataframe thead th {\n",
       "        text-align: right;\n",
       "    }\n",
       "</style>\n",
       "<table border=\"1\" class=\"dataframe\">\n",
       "  <thead>\n",
       "    <tr style=\"text-align: right;\">\n",
       "      <th></th>\n",
       "      <th>order_id</th>\n",
       "      <th>customer_id</th>\n",
       "      <th>order_date</th>\n",
       "      <th>customer_name</th>\n",
       "      <th>product_id</th>\n",
       "      <th>quantity</th>\n",
       "      <th>unit_price</th>\n",
       "      <th>total_price</th>\n",
       "      <th>product_name</th>\n",
       "      <th>category</th>\n",
       "      <th>day</th>\n",
       "      <th>month</th>\n",
       "      <th>year</th>\n",
       "    </tr>\n",
       "  </thead>\n",
       "  <tbody>\n",
       "    <tr>\n",
       "      <th>0</th>\n",
       "      <td>30</td>\n",
       "      <td>27</td>\n",
       "      <td>2006-01-15</td>\n",
       "      <td>Karen Toh</td>\n",
       "      <td>34</td>\n",
       "      <td>100.0</td>\n",
       "      <td>14.0</td>\n",
       "      <td>1400.0</td>\n",
       "      <td>Northwind Traders Beer</td>\n",
       "      <td>Beverages</td>\n",
       "      <td>15</td>\n",
       "      <td>January</td>\n",
       "      <td>2006</td>\n",
       "    </tr>\n",
       "    <tr>\n",
       "      <th>1</th>\n",
       "      <td>55</td>\n",
       "      <td>29</td>\n",
       "      <td>2006-04-05</td>\n",
       "      <td>Soo Jung Lee</td>\n",
       "      <td>34</td>\n",
       "      <td>87.0</td>\n",
       "      <td>14.0</td>\n",
       "      <td>1218.0</td>\n",
       "      <td>Northwind Traders Beer</td>\n",
       "      <td>Beverages</td>\n",
       "      <td>5</td>\n",
       "      <td>April</td>\n",
       "      <td>2006</td>\n",
       "    </tr>\n",
       "  </tbody>\n",
       "</table>\n",
       "</div>"
      ],
      "text/plain": [
       "   order_id  customer_id order_date customer_name  product_id  quantity  \\\n",
       "0        30           27 2006-01-15     Karen Toh          34     100.0   \n",
       "1        55           29 2006-04-05  Soo Jung Lee          34      87.0   \n",
       "\n",
       "   unit_price  total_price            product_name   category  day    month  \\\n",
       "0        14.0       1400.0  Northwind Traders Beer  Beverages   15  January   \n",
       "1        14.0       1218.0  Northwind Traders Beer  Beverages    5    April   \n",
       "\n",
       "   year  \n",
       "0  2006  \n",
       "1  2006  "
      ]
     },
     "execution_count": 28,
     "metadata": {},
     "output_type": "execute_result"
    }
   ],
   "source": [
    "final_df['order_date'] = pd.to_datetime(final_df['order_date'])\n",
    "final_df['day'] = final_df['order_date'].dt.day\n",
    "final_df['month'] = final_df['order_date'].dt.month_name()\n",
    "final_df['year'] = final_df['order_date'].dt.year\n",
    "final_df.head(2)"
   ]
  },
  {
   "cell_type": "code",
   "execution_count": 29,
   "metadata": {},
   "outputs": [
    {
     "data": {
      "text/plain": [
       "product_name\n",
       "Northwind Traders Beer    100.0\n",
       "Name: quantity, dtype: float64"
      ]
     },
     "execution_count": 29,
     "metadata": {},
     "output_type": "execute_result"
    }
   ],
   "source": [
    "monthly_sell_product=final_df[final_df['month']=='January']\t\n",
    "monthly_sell_product.groupby('product_name')['quantity'].sum().sort_values(ascending=False).head(1)"
   ]
  },
  {
   "attachments": {},
   "cell_type": "markdown",
   "metadata": {},
   "source": []
  },
  {
   "cell_type": "code",
   "execution_count": 33,
   "metadata": {},
   "outputs": [
    {
     "name": "stdout",
     "output_type": "stream",
     "text": [
      "product_name\n",
      "Northwind Traders Coffee    625.0\n",
      "Name: quantity, dtype: float64\n"
     ]
    }
   ],
   "source": [
    "def Show_Monthwise_Highest_Selling_Product(month_name:str)-> None:\n",
    "    path1=\"E:\\\\Mou_Projects\\\\Northwind_CSV_File\\\\Customer.csv\"\n",
    "    path3=\"E:\\\\Mou_Projects\\\\Northwind_CSV_File\\\\Products.csv\"\n",
    "    path4=\"E:\\\\Mou_Projects\\\\Northwind_CSV_File\\\\Order_Detail.csv\"\n",
    "    path5=\"E:\\\\Mou_Projects\\\\Northwind_CSV_File\\\\Order.csv\"\n",
    "    df_Customer=pd.read_csv(path1)\n",
    "    df_Products=pd.read_csv(path3)\n",
    "    df_Order_Detail=pd.read_csv(path4)\n",
    "    df_Order=pd.read_csv(path5)\n",
    "    df_Customer=df_Customer[['id','first_name','last_name']]\n",
    "    df_Customer['customer_name']=df_Customer['first_name']+ ' '+ df_Customer['last_name']\n",
    "    df_Order=df_Order[['id','customer_id','order_date']]\n",
    "    df_Order.rename(columns={'id':'order_id'},inplace=True)\n",
    "    new_df=pd.merge(df_Order,df_Customer,left_on='customer_id',right_on='id')\n",
    "    new_df.drop(columns=['id','first_name','last_name'], axis = 1, inplace = True)\n",
    "    df_Order_Detail=df_Order_Detail[['order_id','product_id','quantity','unit_price']]\n",
    "    df_Order_Detail['total_price']=df_Order_Detail['quantity'] * df_Order_Detail['unit_price']\n",
    "    new_df1=pd.merge(new_df,df_Order_Detail,on='order_id')\n",
    "    df_Products=df_Products[['id','product_name','category']]\n",
    "    final_df=pd.merge(new_df1,df_Products,left_on='product_id',right_on='id')\n",
    "    final_df.drop(['id'], axis = 1, inplace = True)\n",
    "    final_df['order_date'] = pd.to_datetime(final_df['order_date'])\n",
    "    final_df['day'] = final_df['order_date'].dt.day\n",
    "    final_df['month'] = final_df['order_date'].dt.month_name()\n",
    "    final_df['year'] = final_df['order_date'].dt.year\n",
    "    monthly_sell_product=final_df[final_df['month'] == month_name]\n",
    "    print(monthly_sell_product.groupby('product_name')['quantity'].sum().sort_values(ascending=False).head(1))\n",
    "\n",
    "Show_Monthwise_Highest_Selling_Product('March')"
   ]
  },
  {
   "attachments": {},
   "cell_type": "markdown",
   "metadata": {},
   "source": [
    "### 5. Find monthly highest selling product catagory wise"
   ]
  },
  {
   "cell_type": "code",
   "execution_count": 39,
   "metadata": {},
   "outputs": [
    {
     "data": {
      "text/plain": [
       "category\n",
       "Jams, Preserves              90.0\n",
       "Candy                        80.0\n",
       "Dried Fruit & Nuts           60.0\n",
       "Canned Fruit & Vegetables    40.0\n",
       "Condiments                   30.0\n",
       "Soups                        10.0\n",
       "Beverages                     5.0\n",
       "Name: quantity, dtype: float64"
      ]
     },
     "execution_count": 39,
     "metadata": {},
     "output_type": "execute_result"
    }
   ],
   "source": [
    "path1=\"E:\\\\Mou_Projects\\\\Northwind_CSV_File\\\\Customer.csv\"\n",
    "path3=\"E:\\\\Mou_Projects\\\\Northwind_CSV_File\\\\Products.csv\"\n",
    "path4=\"E:\\\\Mou_Projects\\\\Northwind_CSV_File\\\\Order_Detail.csv\"\n",
    "path5=\"E:\\\\Mou_Projects\\\\Northwind_CSV_File\\\\Order.csv\"\n",
    "df_Customer=pd.read_csv(path1)\n",
    "df_Products=pd.read_csv(path3)\n",
    "df_Order_Detail=pd.read_csv(path4)\n",
    "df_Order=pd.read_csv(path5)\n",
    "df_Customer=df_Customer[['id','first_name','last_name']]\n",
    "df_Customer['customer_name']=df_Customer['first_name']+ ' '+ df_Customer['last_name']\n",
    "df_Order=df_Order[['id','customer_id','order_date']]\n",
    "df_Order.rename(columns={'id':'order_id'},inplace=True)\n",
    "new_df=pd.merge(df_Order,df_Customer,left_on='customer_id',right_on='id')\n",
    "new_df.drop(columns=['id','first_name','last_name'], axis = 1, inplace = True)\n",
    "df_Order_Detail=df_Order_Detail[['order_id','product_id','quantity','unit_price']]\n",
    "df_Order_Detail['total_price']=df_Order_Detail['quantity'] * df_Order_Detail['unit_price']\n",
    "new_df1=pd.merge(new_df,df_Order_Detail,on='order_id')\n",
    "df_Products=df_Products[['id','product_name','category']]\n",
    "final_df=pd.merge(new_df1,df_Products,left_on='product_id',right_on='id')\n",
    "final_df.drop(['id'], axis = 1, inplace = True)\n",
    "final_df['order_date'] = pd.to_datetime(final_df['order_date'])\n",
    "final_df['day'] = final_df['order_date'].dt.day\n",
    "final_df['month'] = final_df['order_date'].dt.month\n",
    "final_df['year'] = final_df['order_date'].dt.year\n",
    "monthly_sell_product=final_df[final_df['month'] == 6]\n",
    "monthly_sell_product.groupby('category')['quantity'].sum().sort_values(ascending=False)\n"
   ]
  }
 ],
 "metadata": {
  "kernelspec": {
   "display_name": "Python 3",
   "language": "python",
   "name": "python3"
  },
  "language_info": {
   "codemirror_mode": {
    "name": "ipython",
    "version": 3
   },
   "file_extension": ".py",
   "mimetype": "text/x-python",
   "name": "python",
   "nbconvert_exporter": "python",
   "pygments_lexer": "ipython3",
   "version": "3.10.4"
  },
  "orig_nbformat": 4
 },
 "nbformat": 4,
 "nbformat_minor": 2
}
